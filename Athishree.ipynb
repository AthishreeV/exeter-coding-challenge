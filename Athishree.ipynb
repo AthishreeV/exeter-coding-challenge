{
 "cells": [
  {
   "cell_type": "code",
   "execution_count": 1,
   "metadata": {},
   "outputs": [
    {
     "name": "stdout",
     "output_type": "stream",
     "text": [
      "Requirement already satisfied: humanfriendly in c:\\users\\athi sri\\anaconda3\\lib\\site-packages (9.2)\n",
      "Requirement already satisfied: pyreadline; sys_platform == \"win32\" in c:\\users\\athi sri\\anaconda3\\lib\\site-packages (from humanfriendly) (2.1)\n"
     ]
    }
   ],
   "source": [
    "!pip install humanfriendly"
   ]
  },
  {
   "cell_type": "code",
   "execution_count": 2,
   "metadata": {},
   "outputs": [],
   "source": [
    "from humanfriendly import format_timespan\n",
    "import time\n",
    "\n",
    "start= time.time()\n",
    "eng=[]\n",
    "fren=[]\n",
    "import csv\n",
    "with open(r\"C:\\\\Users\\\\Athi sri\\\\Desktop\\\\EXETER\\\\french_dictionary.csv\") as file:\n",
    "    reader = csv.reader(file, delimiter=\",\")\n",
    "    for i in reader:\n",
    "        eng.append(i[0])\n",
    "        fren.append(i[1])"
   ]
  },
  {
   "cell_type": "code",
   "execution_count": 3,
   "metadata": {},
   "outputs": [],
   "source": [
    "count=[0]*1000\n",
    "output=open(r\"C:\\\\Users\\\\Athi sri\\\\Desktop\\\\EXETER\\\\t8.shakespeare.translated.txt\",\"w+\")\n",
    "with open(r\"C:\\\\Users\\\\Athi sri\\\\Desktop\\\\EXETER\\\\t8.shakespeare.txt\") as txt:\n",
    "    for line in txt:\n",
    "        for word in line.split(' '):\n",
    "            if(word!='\\n' and word in eng):\n",
    "                ind=eng.index(word)\n",
    "                output.write(fren[ind]+\" \")\n",
    "                count[ind]+=1\n",
    "            else:\n",
    "                output.write(word+\" \")\n",
    "output.close()"
   ]
  },
  {
   "cell_type": "code",
   "execution_count": 4,
   "metadata": {},
   "outputs": [],
   "source": [
    "csvwriter=open(r\"C:\\\\Users\\\\Athi sri\\\\Desktop\\\\EXETER\\\\frequency.csv\",\"w\")\n",
    "freq=csv.writer(csvwriter)\n",
    "freq.writerow(['English word','French word','Frequency'])\n",
    "for i in range(1000):\n",
    "    if(count[i]!=0):\n",
    "        freq.writerow([eng[i],fren[i],count[i]])\n",
    "csvwriter.close()\n",
    "end=time.time()"
   ]
  },
  {
   "cell_type": "code",
   "execution_count": 5,
   "metadata": {},
   "outputs": [],
   "source": [
    "import os, psutil; \n",
    "str1=\"Time to process: \"+format_timespan(end-start)\n",
    "str2=\"Memory used: \"+str(psutil.Process(os.getpid()).memory_info().rss / 1024 ** 2)+\" MB\"\n",
    "\n",
    "with open(r\"C:\\\\Users\\\\Athi sri\\\\Desktop\\\\EXETER\\\\performance.txt\",\"w\") as perf:\n",
    "    perf.write(str1+\"\\n\"+str2)"
   ]
  }
 ],
 "metadata": {
  "kernelspec": {
   "display_name": "Python 3",
   "language": "python",
   "name": "python3"
  },
  "language_info": {
   "codemirror_mode": {
    "name": "ipython",
    "version": 3
   },
   "file_extension": ".py",
   "mimetype": "text/x-python",
   "name": "python",
   "nbconvert_exporter": "python",
   "pygments_lexer": "ipython3",
   "version": "3.7.4"
  }
 },
 "nbformat": 4,
 "nbformat_minor": 4
}
